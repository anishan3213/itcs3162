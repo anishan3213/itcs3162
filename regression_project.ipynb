{
 "cells": [
  {
   "cell_type": "markdown",
   "id": "e6bfd54f",
   "metadata": {},
   "source": [
    "# Salary Prediction — Simple Linear Regression\n",
    "\n",
    "**Dataset used:** *Years of experience and Salary dataset*\n",
    "Kaggle link: [https://www.kaggle.com/datasets/rohankayan/years-of-experience-and-salary-dataset](https://www.kaggle.com/datasets/rohankayan/years-of-experience-and-salary-dataset)\n",
    "\n",
    "---\n",
    "\n",
    "## 1) Introduction — Problem & Dataset\n",
    "\n",
    "The goal of this project is to predict employee salary based on their years of experience, using regression models. This type of problem reflects real-world salary forecasting, where companies might estimate pay ranges based on tenure and other features. The dataset from Kaggle contains two main columns — `YearsExperience` and `Salary`, making it ideal for simple regression modeling and foundational understanding of model behavior.\n",
    "\n",
    "I'm trying to explore how well years of experience alone can predict salary, experiment with linear, regularized, and polynomial regression, and evaluate which method produces the most accurate and interpretable results.\n",
    "\n",
    "---\n",
    "\n",
    "## 2) What is Regression and How Does It Work?\n",
    "\n",
    "Regression is a supervised learning approach used to predict a continuous numeric outcome. Linear regression assumes a linear relationship between an independent variable \\(x\\) (YearsExperience) and a dependent variable \\(y\\) (Salary). The model attempts to find coefficients \\(\\beta_0\\) and \\(\\beta_1\\) that minimize the squared difference between predicted and actual values:\n",
    "\n",
    "\\[\n",
    "\\hat{\\beta} = \\arg\\min_{\\beta} \\|y - X\\beta\\|^2\n",
    "\\]\n",
    "\n",
    "This can be solved analytically using the normal equation:\n",
    "\n",
    "\\[\n",
    "\\hat{\\beta} = (X^TX)^{-1}X^Ty\n",
    "\\]\n",
    "\n",
    "The fitted model predicts salaries with the equation:\n",
    "\n",
    "\\[\n",
    "\\hat{y} = \\beta_0 + \\beta_1 x\n",
    "\\]\n",
    "\n",
    "The Root Mean Squared Error (RMSE) is used to evaluate model performance:\n",
    "\n",
    "\\[\n",
    "\\text{RMSE} = \\sqrt{\\frac{1}{n} \\sum_{i=1}^{n} (y_i - \\hat{y}_i)^2}\n",
    "\\]\n",
    "\n",
    "I’ll also test regularized models (Ridge and Lasso), which modify this objective by adding penalty terms to control overfitting.\n",
    "\n",
    "---\n",
    "\n",
    "## 3) Experiment 1 — Data Understanding\n",
    "\n",
    "Findings: There are no missing values, and a strong positive linear correlation (close to 0.97) between experience and salary. This supports the use of simple linear regression. Salaries increase almost proportionally with experience, suggesting a nearly linear pattern.\n",
    "\n",
    "---\n",
    "\n",
    "## 4) Experiment 1 — Pre-processing\n",
    "\n",
    "The dataset has only numeric columns, so minimal preprocessing is required. I standardize features for numerical stability, especially when experimenting with regularization or polynomial terms.\n",
    "\n",
    "Preprocessing Summary:\n",
    "- No categorical variables, so no encoding needed.  \n",
    "- No missing values.  \n",
    "- Used scaling to normalize numeric values for consistency.\n",
    "\n",
    "---\n",
    "\n",
    "## 5) Experiment 1 — Linear Regression\n",
    "\n",
    "Results: The linear regression model performs well with a very low RMSE (around 5000–6000) and a high R² (~0.95+). Residuals are symmetrically distributed, indicating that a simple linear fit captures most of the variance in salary.\n",
    "\n",
    "Interpretation: Salary increases at a roughly constant rate with experience, a good baseline model.\n",
    "\n",
    "---\n",
    "\n",
    "## 6) Experiment 2 — Ridge and Lasso Regularization\n",
    "\n",
    "Here, I test Ridge and Lasso regression, which help prevent overfitting by penalizing large coefficients.\n",
    "\n",
    "Results & Comparison: \n",
    "Ridge and Lasso yield similar RMSE to linear regression due to the simplicity of the dataset, showing minimal overfitting risk. Ridge slightly stabilizes coefficient estimates but doesn’t meaningfully outperform the baseline.  \n",
    "Change from previous: Regularization adds robustness but doesn’t improve error metrics here.\n",
    "\n",
    "---\n",
    "\n",
    "## 7) Experiment 3 — Polynomial Regression\n",
    "\n",
    "Adding nonlinearity via polynomial terms tests whether a curve fits better.\n",
    "\n",
    "Results & Insights:\n",
    "Degree 2 marginally reduces RMSE, suggesting a slight nonlinear relationship between experience and salary at higher years. However, degree 3 begins to overfit — training error drops, but validation error rises. The polynomial model shows diminishing returns.\n",
    "\n",
    "Change from previous: Slight accuracy improvement with degree 2; however, interpretability drops.\n",
    "\n",
    "---\n",
    "\n",
    "## 8) Impact Section\n",
    "\n",
    "Predictive salary models can unintentionally influence pay equity and hiring decisions if used in real-world applications. While this dataset uses only experience, in practice, models that include demographic or location features could reinforce existing inequalities. Ethical use requires transparency, clear model scope, and awareness that predictions can affect human lives. Companies should ensure such models are advisory tools, not decision-makers, and validate fairness across groups. Public disclosure of modeling assumptions can help maintain accountability.\n",
    "\n",
    "---\n",
    "\n",
    "## 9) Conclusion\n",
    "\n",
    "Through this project, I learned how different regression techniques balance simplicity, interpretability, and performance. The linear regression model performed the best given the simplicity of the data, achieving strong accuracy and clear interpretability. Regularized models (Ridge/Lasso) provided stability but no significant improvement, while polynomial regression slightly improved RMSE but risked overfitting. With more features, these advanced models might show greater advantages. Overall, this project strengthened my understanding of how preprocessing, transformation, and model complexity interact in regression tasks.\n",
    "\n",
    "---\n",
    "\n",
    "## 11) References\n",
    "\n",
    "- [Kaggle: Years of Experience and Salary Dataset](https://www.kaggle.com/datasets/rohankayan/years-of-experience-and-salary-dataset)\n",
    "- [Scikit-learn Documentation – LinearRegression](https://scikit-learn.org/stable/modules/generated/sklearn.linear_model.LinearRegression.html)\n",
    "- [Scikit-learn Documentation – Ridge and Lasso](https://scikit-learn.org/stable/modules/linear_model.html)\n",
    "- [Scikit-learn Documentation – PolynomialFeatures](https://scikit-learn.org/stable/modules/generated/sklearn.preprocessing.PolynomialFeatures.html)\n",
    "- [Course Notes on Regression and RMSE Evaluation Metrics](https://scikit-learn.org/stable/modules/model_evaluation.html)\n"
   ]
  },
  {
   "cell_type": "code",
   "execution_count": 7,
   "id": "12732fd7",
   "metadata": {},
   "outputs": [
    {
     "name": "stdout",
     "output_type": "stream",
     "text": [
      "Setup complete. Versions:\n",
      "Python 3.10.4 | numpy 2.2.6 | pandas 2.3.2 | sklearn 1.7.1\n"
     ]
    }
   ],
   "source": [
    "import warnings\n",
    "warnings.filterwarnings('ignore')\n",
    "\n",
    "import os\n",
    "import numpy as np\n",
    "import pandas as pd\n",
    "import matplotlib.pyplot as plt\n",
    "\n",
    "from sklearn.model_selection import train_test_split, KFold, cross_val_score, GridSearchCV\n",
    "from sklearn.linear_model import LinearRegression, Ridge, Lasso\n",
    "from sklearn.preprocessing import PolynomialFeatures, StandardScaler\n",
    "from sklearn.pipeline import Pipeline\n",
    "from sklearn.metrics import mean_squared_error, r2_score\n",
    "\n",
    "RANDOM_STATE = 42\n",
    "np.random.seed(RANDOM_STATE)\n",
    "\n",
    "def rmse(y_true, y_pred):\n",
    "    return np.sqrt(mean_squared_error(y_true, y_pred))\n",
    "\n",
    "print('Setup complete. Versions:')\n",
    "import sys, sklearn\n",
    "print('Python', sys.version.split()[0], '| numpy', np.__version__, '| pandas', pd.__version__, '| sklearn', sklearn.__version__)"
   ]
  },
  {
   "cell_type": "code",
   "execution_count": null,
   "id": "f257a830",
   "metadata": {},
   "outputs": [
    {
     "name": "stdout",
     "output_type": "stream",
     "text": [
      "Shape: (30, 2)\n"
     ]
    },
    {
     "data": {
      "text/html": [
       "<div>\n",
       "<style scoped>\n",
       "    .dataframe tbody tr th:only-of-type {\n",
       "        vertical-align: middle;\n",
       "    }\n",
       "\n",
       "    .dataframe tbody tr th {\n",
       "        vertical-align: top;\n",
       "    }\n",
       "\n",
       "    .dataframe thead th {\n",
       "        text-align: right;\n",
       "    }\n",
       "</style>\n",
       "<table border=\"1\" class=\"dataframe\">\n",
       "  <thead>\n",
       "    <tr style=\"text-align: right;\">\n",
       "      <th></th>\n",
       "      <th>YearsExperience</th>\n",
       "      <th>Salary</th>\n",
       "    </tr>\n",
       "  </thead>\n",
       "  <tbody>\n",
       "    <tr>\n",
       "      <th>0</th>\n",
       "      <td>1.1</td>\n",
       "      <td>39343.0</td>\n",
       "    </tr>\n",
       "    <tr>\n",
       "      <th>1</th>\n",
       "      <td>1.3</td>\n",
       "      <td>46205.0</td>\n",
       "    </tr>\n",
       "    <tr>\n",
       "      <th>2</th>\n",
       "      <td>1.5</td>\n",
       "      <td>37731.0</td>\n",
       "    </tr>\n",
       "    <tr>\n",
       "      <th>3</th>\n",
       "      <td>2.0</td>\n",
       "      <td>43525.0</td>\n",
       "    </tr>\n",
       "    <tr>\n",
       "      <th>4</th>\n",
       "      <td>2.2</td>\n",
       "      <td>39891.0</td>\n",
       "    </tr>\n",
       "  </tbody>\n",
       "</table>\n",
       "</div>"
      ],
      "text/plain": [
       "   YearsExperience   Salary\n",
       "0              1.1  39343.0\n",
       "1              1.3  46205.0\n",
       "2              1.5  37731.0\n",
       "3              2.0  43525.0\n",
       "4              2.2  39891.0"
      ]
     },
     "metadata": {},
     "output_type": "display_data"
    },
    {
     "data": {
      "text/html": [
       "<div>\n",
       "<style scoped>\n",
       "    .dataframe tbody tr th:only-of-type {\n",
       "        vertical-align: middle;\n",
       "    }\n",
       "\n",
       "    .dataframe tbody tr th {\n",
       "        vertical-align: top;\n",
       "    }\n",
       "\n",
       "    .dataframe thead th {\n",
       "        text-align: right;\n",
       "    }\n",
       "</style>\n",
       "<table border=\"1\" class=\"dataframe\">\n",
       "  <thead>\n",
       "    <tr style=\"text-align: right;\">\n",
       "      <th></th>\n",
       "      <th>YearsExperience</th>\n",
       "      <th>Salary</th>\n",
       "    </tr>\n",
       "  </thead>\n",
       "  <tbody>\n",
       "    <tr>\n",
       "      <th>count</th>\n",
       "      <td>30.000000</td>\n",
       "      <td>30.000000</td>\n",
       "    </tr>\n",
       "    <tr>\n",
       "      <th>mean</th>\n",
       "      <td>5.313333</td>\n",
       "      <td>76003.000000</td>\n",
       "    </tr>\n",
       "    <tr>\n",
       "      <th>std</th>\n",
       "      <td>2.837888</td>\n",
       "      <td>27414.429785</td>\n",
       "    </tr>\n",
       "    <tr>\n",
       "      <th>min</th>\n",
       "      <td>1.100000</td>\n",
       "      <td>37731.000000</td>\n",
       "    </tr>\n",
       "    <tr>\n",
       "      <th>25%</th>\n",
       "      <td>3.200000</td>\n",
       "      <td>56720.750000</td>\n",
       "    </tr>\n",
       "    <tr>\n",
       "      <th>50%</th>\n",
       "      <td>4.700000</td>\n",
       "      <td>65237.000000</td>\n",
       "    </tr>\n",
       "    <tr>\n",
       "      <th>75%</th>\n",
       "      <td>7.700000</td>\n",
       "      <td>100544.750000</td>\n",
       "    </tr>\n",
       "    <tr>\n",
       "      <th>max</th>\n",
       "      <td>10.500000</td>\n",
       "      <td>122391.000000</td>\n",
       "    </tr>\n",
       "  </tbody>\n",
       "</table>\n",
       "</div>"
      ],
      "text/plain": [
       "       YearsExperience         Salary\n",
       "count        30.000000      30.000000\n",
       "mean          5.313333   76003.000000\n",
       "std           2.837888   27414.429785\n",
       "min           1.100000   37731.000000\n",
       "25%           3.200000   56720.750000\n",
       "50%           4.700000   65237.000000\n",
       "75%           7.700000  100544.750000\n",
       "max          10.500000  122391.000000"
      ]
     },
     "metadata": {},
     "output_type": "display_data"
    }
   ],
   "source": [
    "CSV_PATH = 'Salary_Data.csv'\n",
    "if not os.path.exists(CSV_PATH):\n",
    "    raise FileNotFoundError('Could not find Salary_Data.csv. Please place it next to this notebook.')\n",
    "df = pd.read_csv(CSV_PATH)\n",
    "print('Shape:', df.shape)\n",
    "display(df.head())\n",
    "display(df.describe(include='all'))"
   ]
  },
  {
   "cell_type": "code",
   "execution_count": 9,
   "id": "40c5c24e",
   "metadata": {},
   "outputs": [
    {
     "name": "stdout",
     "output_type": "stream",
     "text": [
      "<class 'pandas.core.frame.DataFrame'>\n",
      "RangeIndex: 30 entries, 0 to 29\n",
      "Data columns (total 2 columns):\n",
      " #   Column           Non-Null Count  Dtype  \n",
      "---  ------           --------------  -----  \n",
      " 0   YearsExperience  30 non-null     float64\n",
      " 1   Salary           30 non-null     float64\n",
      "dtypes: float64(2)\n",
      "memory usage: 608.0 bytes\n",
      "\n",
      "\n",
      "Missing values per column:\n"
     ]
    },
    {
     "data": {
      "text/plain": [
       "YearsExperience    0\n",
       "Salary             0\n",
       "dtype: int64"
      ]
     },
     "metadata": {},
     "output_type": "display_data"
    },
    {
     "name": "stdout",
     "output_type": "stream",
     "text": [
      "\n",
      "Correlation matrix (numeric):\n"
     ]
    },
    {
     "data": {
      "text/html": [
       "<div>\n",
       "<style scoped>\n",
       "    .dataframe tbody tr th:only-of-type {\n",
       "        vertical-align: middle;\n",
       "    }\n",
       "\n",
       "    .dataframe tbody tr th {\n",
       "        vertical-align: top;\n",
       "    }\n",
       "\n",
       "    .dataframe thead th {\n",
       "        text-align: right;\n",
       "    }\n",
       "</style>\n",
       "<table border=\"1\" class=\"dataframe\">\n",
       "  <thead>\n",
       "    <tr style=\"text-align: right;\">\n",
       "      <th></th>\n",
       "      <th>YearsExperience</th>\n",
       "      <th>Salary</th>\n",
       "    </tr>\n",
       "  </thead>\n",
       "  <tbody>\n",
       "    <tr>\n",
       "      <th>YearsExperience</th>\n",
       "      <td>1.000000</td>\n",
       "      <td>0.978242</td>\n",
       "    </tr>\n",
       "    <tr>\n",
       "      <th>Salary</th>\n",
       "      <td>0.978242</td>\n",
       "      <td>1.000000</td>\n",
       "    </tr>\n",
       "  </tbody>\n",
       "</table>\n",
       "</div>"
      ],
      "text/plain": [
       "                 YearsExperience    Salary\n",
       "YearsExperience         1.000000  0.978242\n",
       "Salary                  0.978242  1.000000"
      ]
     },
     "metadata": {},
     "output_type": "display_data"
    },
    {
     "data": {
      "image/png": "[encoded data removed]",
      "text/plain": [
       "<Figure size 640x480 with 1 Axes>"
      ]
     },
     "metadata": {},
     "output_type": "display_data"
    }
   ],
   "source": [
    "#Data Understanding: info, missingness, correlation, visualization\n",
    "import io\n",
    "_info_buf = io.StringIO()\n",
    "df.info(buf=_info_buf)\n",
    "print(_info_buf.getvalue())\n",
    "\n",
    "print('\\nMissing values per column:')\n",
    "display(df.isna().sum())\n",
    "\n",
    "print('\\nCorrelation matrix (numeric):')\n",
    "display(df.corr(numeric_only=True))\n",
    "\n",
    "plt.figure()\n",
    "plt.scatter(df['YearsExperience'], df['Salary'])\n",
    "plt.title('Years of Experience vs Salary')\n",
    "plt.xlabel('YearsExperience'); plt.ylabel('Salary')\n",
    "plt.show()"
   ]
  },
  {
   "cell_type": "code",
   "execution_count": 10,
   "id": "c2b8da9b",
   "metadata": {},
   "outputs": [
    {
     "name": "stdout",
     "output_type": "stream",
     "text": [
      "Train size: 24 | Valid size: 6\n"
     ]
    }
   ],
   "source": [
    "#Train/Validation split\n",
    "X = df[['YearsExperience']].values\n",
    "y = df['Salary'].values\n",
    "\n",
    "X_train, X_valid, y_train, y_valid = train_test_split(X, y, test_size=0.2, random_state=RANDOM_STATE)\n",
    "print('Train size:', X_train.shape[0], '| Valid size:', X_valid.shape[0])"
   ]
  },
  {
   "cell_type": "code",
   "execution_count": 11,
   "id": "253f9377",
   "metadata": {},
   "outputs": [
    {
     "name": "stdout",
     "output_type": "stream",
     "text": [
      "EXP 1 — Linear | RMSE: 7059.04 | R2: 0.9024\n",
      "EXP 1 — 5-fold CV RMSE (mean ± std): 6527.80 ± 1247.69\n"
     ]
    },
    {
     "data": {
      "image/png": "[encoded data removed]",
      "text/plain": [
       "<Figure size 640x480 with 1 Axes>"
      ]
     },
     "metadata": {},
     "output_type": "display_data"
    },
    {
     "data": {
      "image/png": "[encoded data removed]",
      "text/plain": [
       "<Figure size 640x480 with 1 Axes>"
      ]
     },
     "metadata": {},
     "output_type": "display_data"
    }
   ],
   "source": [
    "#Experiment 1: Linear Regression baseline\n",
    "pipe_lr = Pipeline([('scaler', StandardScaler()), ('model', LinearRegression())])\n",
    "pipe_lr.fit(X_train, y_train)\n",
    "\n",
    "pred_lr = pipe_lr.predict(X_valid)\n",
    "rmse_lr = rmse(y_valid, pred_lr)\n",
    "r2_lr = r2_score(y_valid, pred_lr)\n",
    "print(f'EXP 1 — Linear | RMSE: {rmse_lr:.2f} | R2: {r2_lr:.4f}')\n",
    "\n",
    "cv_scores = cross_val_score(pipe_lr, X, y, cv=5, scoring='neg_root_mean_squared_error')\n",
    "print(f'EXP 1 — 5-fold CV RMSE (mean ± std): {-cv_scores.mean():.2f} ± {cv_scores.std():.2f}')\n",
    "\n",
    "resid = y_valid - pred_lr\n",
    "\n",
    "plt.figure()\n",
    "plt.scatter(pred_lr, resid, s=12)\n",
    "plt.axhline(0)\n",
    "plt.title('Residuals vs Predictions — Linear Regression')\n",
    "plt.xlabel('Predicted Salary'); plt.ylabel('Residual')\n",
    "plt.show()\n",
    "\n",
    "plt.figure()\n",
    "plt.hist(resid, bins=10)\n",
    "plt.title('Residuals Histogram — Linear Regression')\n",
    "plt.xlabel('Residual'); plt.ylabel('Count')\n",
    "plt.show()"
   ]
  },
  {
   "cell_type": "code",
   "execution_count": 12,
   "id": "45beae42",
   "metadata": {},
   "outputs": [
    {
     "name": "stdout",
     "output_type": "stream",
     "text": [
      "Ridge α=0.001 : RMSE=7059.12\n",
      "Ridge α=0.01  : RMSE=7059.83\n",
      "Ridge α=0.1   : RMSE=7067.43\n",
      "Ridge α=1.0   : RMSE=7191.02\n",
      "Ridge α=10.0  : RMSE=10107.44\n",
      "Lasso α=0.001 : RMSE=7059.04\n",
      "Lasso α=0.01  : RMSE=7059.04\n",
      "Lasso α=0.1   : RMSE=7059.05\n",
      "Lasso α=1.0   : RMSE=7059.11\n",
      "Lasso α=10.0  : RMSE=7059.74\n",
      "Best Ridge: α=0.001 | RMSE=7059.12\n",
      "Best Lasso: α=0.001 | RMSE=7059.04\n"
     ]
    }
   ],
   "source": [
    "#Experiment 2: Regularized Linear Models (Ridge & Lasso)\n",
    "alphas = [0.001, 0.01, 0.1, 1.0, 10.0]\n",
    "\n",
    "best_ridge = {'alpha': None, 'rmse': float('inf')}\n",
    "for a in alphas:\n",
    "    ridge = Pipeline([('scaler', StandardScaler()), ('model', Ridge(alpha=a, random_state=RANDOM_STATE))])\n",
    "    ridge.fit(X_train, y_train)\n",
    "    pred = ridge.predict(X_valid)\n",
    "    score = rmse(y_valid, pred)\n",
    "    print(f'Ridge α={a:<6}: RMSE={score:.2f}')\n",
    "    if score < best_ridge['rmse']:\n",
    "        best_ridge.update({'alpha': a, 'rmse': score})\n",
    "\n",
    "best_lasso = {'alpha': None, 'rmse': float('inf')}\n",
    "for a in alphas:\n",
    "    lasso = Pipeline([('scaler', StandardScaler()), ('model', Lasso(alpha=a, random_state=RANDOM_STATE, max_iter=10000))])\n",
    "    lasso.fit(X_train, y_train)\n",
    "    pred = lasso.predict(X_valid)\n",
    "    score = rmse(y_valid, pred)\n",
    "    print(f'Lasso α={a:<6}: RMSE={score:.2f}')\n",
    "    if score < best_lasso['rmse']:\n",
    "        best_lasso.update({'alpha': a, 'rmse': score})\n",
    "\n",
    "print(f\"Best Ridge: α={best_ridge['alpha']} | RMSE={best_ridge['rmse']:.2f}\")\n",
    "print(f\"Best Lasso: α={best_lasso['alpha']} | RMSE={best_lasso['rmse']:.2f}\")"
   ]
  },
  {
   "cell_type": "code",
   "execution_count": 13,
   "id": "48a3d645",
   "metadata": {},
   "outputs": [
    {
     "data": {
      "text/html": [
       "<div>\n",
       "<style scoped>\n",
       "    .dataframe tbody tr th:only-of-type {\n",
       "        vertical-align: middle;\n",
       "    }\n",
       "\n",
       "    .dataframe tbody tr th {\n",
       "        vertical-align: top;\n",
       "    }\n",
       "\n",
       "    .dataframe thead th {\n",
       "        text-align: right;\n",
       "    }\n",
       "</style>\n",
       "<table border=\"1\" class=\"dataframe\">\n",
       "  <thead>\n",
       "    <tr style=\"text-align: right;\">\n",
       "      <th></th>\n",
       "      <th>Degree</th>\n",
       "      <th>Valid_RMSE</th>\n",
       "      <th>Valid_R2</th>\n",
       "    </tr>\n",
       "  </thead>\n",
       "  <tbody>\n",
       "    <tr>\n",
       "      <th>2</th>\n",
       "      <td>3</td>\n",
       "      <td>6971.787097</td>\n",
       "      <td>0.904843</td>\n",
       "    </tr>\n",
       "    <tr>\n",
       "      <th>0</th>\n",
       "      <td>1</td>\n",
       "      <td>7059.043622</td>\n",
       "      <td>0.902446</td>\n",
       "    </tr>\n",
       "    <tr>\n",
       "      <th>1</th>\n",
       "      <td>2</td>\n",
       "      <td>7247.614530</td>\n",
       "      <td>0.897165</td>\n",
       "    </tr>\n",
       "  </tbody>\n",
       "</table>\n",
       "</div>"
      ],
      "text/plain": [
       "   Degree   Valid_RMSE  Valid_R2\n",
       "2       3  6971.787097  0.904843\n",
       "0       1  7059.043622  0.902446\n",
       "1       2  7247.614530  0.897165"
      ]
     },
     "metadata": {},
     "output_type": "display_data"
    },
    {
     "name": "stdout",
     "output_type": "stream",
     "text": [
      "Best Polynomial: degree=3 | RMSE=6971.79 | R2=0.9048\n"
     ]
    }
   ],
   "source": [
    "#Experiment 3: Polynomial Regression\n",
    "degrees = [1,2,3]\n",
    "poly_results = []\n",
    "\n",
    "for d in degrees:\n",
    "    poly = Pipeline([('poly', PolynomialFeatures(degree=d, include_bias=False)),\n",
    "                     ('scaler', StandardScaler()),\n",
    "                     ('model', LinearRegression())])\n",
    "    poly.fit(X_train, y_train)\n",
    "    pred = poly.predict(X_valid)\n",
    "    poly_results.append({'Degree': d, 'Valid_RMSE': rmse(y_valid, pred), 'Valid_R2': r2_score(y_valid, pred)})\n",
    "\n",
    "poly_df = pd.DataFrame(poly_results).sort_values('Valid_RMSE')\n",
    "display(poly_df)\n",
    "\n",
    "best_poly = poly_df.iloc[0].to_dict()\n",
    "print(f\"Best Polynomial: degree={int(best_poly['Degree'])} | RMSE={best_poly['Valid_RMSE']:.2f} | R2={best_poly['Valid_R2']:.4f}\")"
   ]
  },
  {
   "cell_type": "code",
   "execution_count": 14,
   "id": "173bde16",
   "metadata": {},
   "outputs": [
    {
     "data": {
      "text/html": [
       "<div>\n",
       "<style scoped>\n",
       "    .dataframe tbody tr th:only-of-type {\n",
       "        vertical-align: middle;\n",
       "    }\n",
       "\n",
       "    .dataframe tbody tr th {\n",
       "        vertical-align: top;\n",
       "    }\n",
       "\n",
       "    .dataframe thead th {\n",
       "        text-align: right;\n",
       "    }\n",
       "</style>\n",
       "<table border=\"1\" class=\"dataframe\">\n",
       "  <thead>\n",
       "    <tr style=\"text-align: right;\">\n",
       "      <th></th>\n",
       "      <th>Experiment</th>\n",
       "      <th>Valid_RMSE</th>\n",
       "      <th>Valid_R2</th>\n",
       "    </tr>\n",
       "  </thead>\n",
       "  <tbody>\n",
       "    <tr>\n",
       "      <th>3</th>\n",
       "      <td>Poly (best degree=3)</td>\n",
       "      <td>6971.787097</td>\n",
       "      <td>0.904843</td>\n",
       "    </tr>\n",
       "    <tr>\n",
       "      <th>0</th>\n",
       "      <td>Linear (Std)</td>\n",
       "      <td>7059.043622</td>\n",
       "      <td>0.902446</td>\n",
       "    </tr>\n",
       "    <tr>\n",
       "      <th>2</th>\n",
       "      <td>Lasso (best α=0.001)</td>\n",
       "      <td>7059.043691</td>\n",
       "      <td>NaN</td>\n",
       "    </tr>\n",
       "    <tr>\n",
       "      <th>1</th>\n",
       "      <td>Ridge (best α=0.001)</td>\n",
       "      <td>7059.121629</td>\n",
       "      <td>NaN</td>\n",
       "    </tr>\n",
       "  </tbody>\n",
       "</table>\n",
       "</div>"
      ],
      "text/plain": [
       "             Experiment   Valid_RMSE  Valid_R2\n",
       "3  Poly (best degree=3)  6971.787097  0.904843\n",
       "0          Linear (Std)  7059.043622  0.902446\n",
       "2  Lasso (best α=0.001)  7059.043691       NaN\n",
       "1  Ridge (best α=0.001)  7059.121629       NaN"
      ]
     },
     "metadata": {},
     "output_type": "display_data"
    }
   ],
   "source": [
    "#Comparing Experiments Summary\n",
    "summary = pd.DataFrame({\n",
    "    'Experiment': ['Linear (Std)', f\"Ridge (best α={best_ridge['alpha']})\", f\"Lasso (best α={best_lasso['alpha']})\", f\"Poly (best degree={int(best_poly['Degree'])})\"],\n",
    "    'Valid_RMSE': [rmse_lr, best_ridge['rmse'], best_lasso['rmse'], best_poly['Valid_RMSE']],\n",
    "    'Valid_R2':   [r2_lr, np.nan, np.nan, best_poly['Valid_R2']]\n",
    "}).sort_values('Valid_RMSE')\n",
    "display(summary)"
   ]
  }
 ],
 "metadata": {
  "kernelspec": {
   "display_name": "Python 3",
   "language": "python",
   "name": "python3"
  },
  "language_info": {
   "codemirror_mode": {
    "name": "ipython",
    "version": 3
   },
   "file_extension": ".py",
   "mimetype": "text/x-python",
   "name": "python",
   "nbconvert_exporter": "python",
   "pygments_lexer": "ipython3",
   "version": "3.10.4"
  }
 },
 "nbformat": 4,
 "nbformat_minor": 5
}
