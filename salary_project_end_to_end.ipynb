{
 "cells": [
  {
   "cell_type": "markdown",
   "id": "05368b9c",
   "metadata": {},
   "source": [
    "\n",
    "# Salary Prediction — Simple Linear Regression\n",
    "\n",
    "**Anisha Nannapaneni**\n"
   ]
  },
  {
   "cell_type": "markdown",
   "id": "518ce515",
   "metadata": {},
   "source": [
    "## 0) Setup"
   ]
  },
  {
   "cell_type": "code",
   "execution_count": 1,
   "id": "f0dd6678",
   "metadata": {},
   "outputs": [],
   "source": [
    "\n",
    "import warnings\n",
    "warnings.filterwarnings('ignore')\n",
    "\n",
    "import os\n",
    "import numpy as np\n",
    "import pandas as pd\n",
    "import matplotlib.pyplot as plt\n",
    "\n",
    "from sklearn.model_selection import train_test_split, KFold, cross_val_score\n",
    "from sklearn.linear_model import LinearRegression, Ridge, Lasso\n",
    "from sklearn.preprocessing import PolynomialFeatures, StandardScaler\n",
    "from sklearn.pipeline import Pipeline\n",
    "from sklearn.metrics import mean_squared_error, r2_score\n",
    "\n",
    "RANDOM_STATE = 42\n",
    "np.random.seed(RANDOM_STATE)\n",
    "\n",
    "def rmse(y_true, y_pred):\n",
    "    return np.sqrt(mean_squared_error(y_true, y_pred))\n"
   ]
  },
  {
   "cell_type": "markdown",
   "id": "33669329",
   "metadata": {},
   "source": [
    "\n",
    "## 1) Introduction — Problem & Dataset\n"
   ]
  },
  {
   "cell_type": "markdown",
   "id": "2c572a48",
   "metadata": {},
   "source": [
    "## 2) Load the Dataset (reads `Salary_Data.csv`)"
   ]
  },
  {
   "cell_type": "code",
   "execution_count": 2,
   "id": "8e599125",
   "metadata": {},
   "outputs": [
    {
     "name": "stdout",
     "output_type": "stream",
     "text": [
      "Shape: (30, 2)\n"
     ]
    },
    {
     "data": {
      "text/html": [
       "<div>\n",
       "<style scoped>\n",
       "    .dataframe tbody tr th:only-of-type {\n",
       "        vertical-align: middle;\n",
       "    }\n",
       "\n",
       "    .dataframe tbody tr th {\n",
       "        vertical-align: top;\n",
       "    }\n",
       "\n",
       "    .dataframe thead th {\n",
       "        text-align: right;\n",
       "    }\n",
       "</style>\n",
       "<table border=\"1\" class=\"dataframe\">\n",
       "  <thead>\n",
       "    <tr style=\"text-align: right;\">\n",
       "      <th></th>\n",
       "      <th>YearsExperience</th>\n",
       "      <th>Salary</th>\n",
       "    </tr>\n",
       "  </thead>\n",
       "  <tbody>\n",
       "    <tr>\n",
       "      <th>0</th>\n",
       "      <td>1.1</td>\n",
       "      <td>39343.0</td>\n",
       "    </tr>\n",
       "    <tr>\n",
       "      <th>1</th>\n",
       "      <td>1.3</td>\n",
       "      <td>46205.0</td>\n",
       "    </tr>\n",
       "    <tr>\n",
       "      <th>2</th>\n",
       "      <td>1.5</td>\n",
       "      <td>37731.0</td>\n",
       "    </tr>\n",
       "    <tr>\n",
       "      <th>3</th>\n",
       "      <td>2.0</td>\n",
       "      <td>43525.0</td>\n",
       "    </tr>\n",
       "    <tr>\n",
       "      <th>4</th>\n",
       "      <td>2.2</td>\n",
       "      <td>39891.0</td>\n",
       "    </tr>\n",
       "  </tbody>\n",
       "</table>\n",
       "</div>"
      ],
      "text/plain": [
       "   YearsExperience   Salary\n",
       "0              1.1  39343.0\n",
       "1              1.3  46205.0\n",
       "2              1.5  37731.0\n",
       "3              2.0  43525.0\n",
       "4              2.2  39891.0"
      ]
     },
     "metadata": {},
     "output_type": "display_data"
    },
    {
     "data": {
      "text/html": [
       "<div>\n",
       "<style scoped>\n",
       "    .dataframe tbody tr th:only-of-type {\n",
       "        vertical-align: middle;\n",
       "    }\n",
       "\n",
       "    .dataframe tbody tr th {\n",
       "        vertical-align: top;\n",
       "    }\n",
       "\n",
       "    .dataframe thead th {\n",
       "        text-align: right;\n",
       "    }\n",
       "</style>\n",
       "<table border=\"1\" class=\"dataframe\">\n",
       "  <thead>\n",
       "    <tr style=\"text-align: right;\">\n",
       "      <th></th>\n",
       "      <th>YearsExperience</th>\n",
       "      <th>Salary</th>\n",
       "    </tr>\n",
       "  </thead>\n",
       "  <tbody>\n",
       "    <tr>\n",
       "      <th>count</th>\n",
       "      <td>30.000000</td>\n",
       "      <td>30.000000</td>\n",
       "    </tr>\n",
       "    <tr>\n",
       "      <th>mean</th>\n",
       "      <td>5.313333</td>\n",
       "      <td>76003.000000</td>\n",
       "    </tr>\n",
       "    <tr>\n",
       "      <th>std</th>\n",
       "      <td>2.837888</td>\n",
       "      <td>27414.429785</td>\n",
       "    </tr>\n",
       "    <tr>\n",
       "      <th>min</th>\n",
       "      <td>1.100000</td>\n",
       "      <td>37731.000000</td>\n",
       "    </tr>\n",
       "    <tr>\n",
       "      <th>25%</th>\n",
       "      <td>3.200000</td>\n",
       "      <td>56720.750000</td>\n",
       "    </tr>\n",
       "    <tr>\n",
       "      <th>50%</th>\n",
       "      <td>4.700000</td>\n",
       "      <td>65237.000000</td>\n",
       "    </tr>\n",
       "    <tr>\n",
       "      <th>75%</th>\n",
       "      <td>7.700000</td>\n",
       "      <td>100544.750000</td>\n",
       "    </tr>\n",
       "    <tr>\n",
       "      <th>max</th>\n",
       "      <td>10.500000</td>\n",
       "      <td>122391.000000</td>\n",
       "    </tr>\n",
       "  </tbody>\n",
       "</table>\n",
       "</div>"
      ],
      "text/plain": [
       "       YearsExperience         Salary\n",
       "count        30.000000      30.000000\n",
       "mean          5.313333   76003.000000\n",
       "std           2.837888   27414.429785\n",
       "min           1.100000   37731.000000\n",
       "25%           3.200000   56720.750000\n",
       "50%           4.700000   65237.000000\n",
       "75%           7.700000  100544.750000\n",
       "max          10.500000  122391.000000"
      ]
     },
     "metadata": {},
     "output_type": "display_data"
    }
   ],
   "source": [
    "\n",
    "CSV_PATH = 'Salary_Data.csv'  \n",
    "\n",
    "if not os.path.exists(CSV_PATH):\n",
    "    raise FileNotFoundError(\"Could not find Salary_Data.csv. Download from Kaggle and place it next to this notebook.\")\n",
    "\n",
    "df = pd.read_csv(CSV_PATH)\n",
    "print(\"Shape:\", df.shape)\n",
    "display(df.head())\n",
    "display(df.describe())\n"
   ]
  },
  {
   "cell_type": "markdown",
   "id": "3a07b6ac",
   "metadata": {},
   "source": [
    "\n",
    "## 3) What is Regression? (Rubric: 10 pts + bonus math)\n",
    "**Regression** predicts a continuous target variable (here, salary).  \n",
    "**Simple Linear Regression** models a linear relationship:\n",
    "\\(\n",
    "y = \\beta_0 + \\beta_1 x + \\varepsilon\n",
    "\\)\n",
    "We estimate parameters by minimizing squared error. Closed-form solution:\n",
    "\\(\n",
    "\\hat{\\\\beta} = (X^TX)^{-1}X^Ty\n",
    "\\)\n",
    "**RMSE** is used to measure error:\n",
    "\\(\n",
    "\\\\text{RMSE} = \\\\sqrt{\\\\frac{1}{n}\\\\sum (y_i - \\\\hat{y}_i)^2}\n",
    "\\)\n"
   ]
  },
  {
   "cell_type": "markdown",
   "id": "d6d765cc",
   "metadata": {},
   "source": [
    "\n",
    "## 4) Experiment 1 — Data Understanding\n"
   ]
  },
  {
   "cell_type": "code",
   "execution_count": 3,
   "id": "afc634b7",
   "metadata": {},
   "outputs": [
    {
     "data": {
      "image/png": "[encoded data removed]",
      "text/plain": [
       "<Figure size 640x480 with 1 Axes>"
      ]
     },
     "metadata": {},
     "output_type": "display_data"
    },
    {
     "name": "stdout",
     "output_type": "stream",
     "text": [
      "Correlation matrix:\n"
     ]
    },
    {
     "data": {
      "text/html": [
       "<div>\n",
       "<style scoped>\n",
       "    .dataframe tbody tr th:only-of-type {\n",
       "        vertical-align: middle;\n",
       "    }\n",
       "\n",
       "    .dataframe tbody tr th {\n",
       "        vertical-align: top;\n",
       "    }\n",
       "\n",
       "    .dataframe thead th {\n",
       "        text-align: right;\n",
       "    }\n",
       "</style>\n",
       "<table border=\"1\" class=\"dataframe\">\n",
       "  <thead>\n",
       "    <tr style=\"text-align: right;\">\n",
       "      <th></th>\n",
       "      <th>YearsExperience</th>\n",
       "      <th>Salary</th>\n",
       "    </tr>\n",
       "  </thead>\n",
       "  <tbody>\n",
       "    <tr>\n",
       "      <th>YearsExperience</th>\n",
       "      <td>1.000000</td>\n",
       "      <td>0.978242</td>\n",
       "    </tr>\n",
       "    <tr>\n",
       "      <th>Salary</th>\n",
       "      <td>0.978242</td>\n",
       "      <td>1.000000</td>\n",
       "    </tr>\n",
       "  </tbody>\n",
       "</table>\n",
       "</div>"
      ],
      "text/plain": [
       "                 YearsExperience    Salary\n",
       "YearsExperience         1.000000  0.978242\n",
       "Salary                  0.978242  1.000000"
      ]
     },
     "metadata": {},
     "output_type": "display_data"
    }
   ],
   "source": [
    "\n",
    "plt.figure()\n",
    "plt.scatter(df['YearsExperience'], df['Salary'])\n",
    "plt.title('YearsExperience vs Salary')\n",
    "plt.xlabel('YearsExperience')\n",
    "plt.ylabel('Salary')\n",
    "plt.show()\n",
    "\n",
    "corr = df.corr(numeric_only=True)\n",
    "print(\"Correlation matrix:\")\n",
    "display(corr)\n"
   ]
  },
  {
   "cell_type": "markdown",
   "id": "a8352aae",
   "metadata": {},
   "source": [
    "\n",
    "## 5) Experiment 1 — Pre-processing\n",
    "This dataset has two numeric columns and no missing values typically. \n",
    "- Train/validation split (80/20)\n",
    "- Standardization for numerical stability\n"
   ]
  },
  {
   "cell_type": "code",
   "execution_count": 4,
   "id": "6b26e937",
   "metadata": {},
   "outputs": [
    {
     "name": "stdout",
     "output_type": "stream",
     "text": [
      "Train size: 24  | Valid size: 6\n"
     ]
    }
   ],
   "source": [
    "\n",
    "X = df[['YearsExperience']].values\n",
    "y = df['Salary'].values\n",
    "\n",
    "X_train, X_valid, y_train, y_valid = train_test_split(X, y, test_size=0.2, random_state=RANDOM_STATE)\n",
    "print(\"Train size:\", X_train.shape[0], \" | Valid size:\", X_valid.shape[0])\n"
   ]
  },
  {
   "cell_type": "markdown",
   "id": "8f864dcb",
   "metadata": {},
   "source": [
    "\n",
    "## 6) Experiment 1 — Modeling (Linear Regression)\n",
    "Baseline **LinearRegression** with standardization.\n"
   ]
  },
  {
   "cell_type": "code",
   "execution_count": 5,
   "id": "2689e31b",
   "metadata": {},
   "outputs": [
    {
     "name": "stdout",
     "output_type": "stream",
     "text": [
      "EXP 1 — Linear | RMSE: 7059.043621901506 | R^2: 0.9024461774180498\n",
      "EXP 1 — 5-fold CV RMSE (mean ± std): 6527.796603338689 ± 1247.686248345616\n"
     ]
    }
   ],
   "source": [
    "\n",
    "pipe_lr = Pipeline([('scaler', StandardScaler()), ('model', LinearRegression())])\n",
    "pipe_lr.fit(X_train, y_train)\n",
    "\n",
    "pred_lr = pipe_lr.predict(X_valid)\n",
    "rmse_lr = rmse(y_valid, pred_lr)\n",
    "r2_lr = r2_score(y_valid, pred_lr)\n",
    "print(\"EXP 1 — Linear | RMSE:\", rmse_lr, \"| R^2:\", r2_lr)\n",
    "\n",
    "cv_scores = cross_val_score(pipe_lr, X, y, cv=5, scoring='neg_root_mean_squared_error')\n",
    "print(\"EXP 1 — 5-fold CV RMSE (mean ± std):\", -cv_scores.mean(), \"±\", cv_scores.std())\n"
   ]
  },
  {
   "cell_type": "markdown",
   "id": "b2d0d67f",
   "metadata": {},
   "source": [
    "### Residual Diagnostics"
   ]
  },
  {
   "cell_type": "code",
   "execution_count": 6,
   "id": "c94259d5",
   "metadata": {},
   "outputs": [
    {
     "data": {
      "image/png": "[encoded data removed]",
      "text/plain": [
       "<Figure size 640x480 with 1 Axes>"
      ]
     },
     "metadata": {},
     "output_type": "display_data"
    },
    {
     "data": {
      "image/png": "[encoded data removed]",
      "text/plain": [
       "<Figure size 640x480 with 1 Axes>"
      ]
     },
     "metadata": {},
     "output_type": "display_data"
    }
   ],
   "source": [
    "\n",
    "resid = y_valid - pred_lr\n",
    "\n",
    "plt.figure()\n",
    "plt.scatter(pred_lr, resid, s=10)\n",
    "plt.axhline(0)\n",
    "plt.title('Residuals vs Predictions (Linear)')\n",
    "plt.xlabel('Predicted Salary'); plt.ylabel('Residual')\n",
    "plt.show()\n",
    "\n",
    "plt.figure()\n",
    "plt.hist(resid, bins=10)\n",
    "plt.title('Residuals Histogram (Linear)')\n",
    "plt.xlabel('Residual'); plt.ylabel('Count')\n",
    "plt.show()\n"
   ]
  },
  {
   "cell_type": "markdown",
   "id": "a8278f8d",
   "metadata": {},
   "source": [
    "\n",
    "## 7) Experiment 2 — Regularized Linear Models (Ridge & Lasso)\n"
   ]
  },
  {
   "cell_type": "code",
   "execution_count": 7,
   "id": "92849931",
   "metadata": {},
   "outputs": [
    {
     "name": "stdout",
     "output_type": "stream",
     "text": [
      "EXP 2 — Ridge best alpha=0.001 | RMSE=7059.121628677359\n",
      "EXP 2 — Lasso best alpha=0.001 | RMSE=7059.043690801179\n"
     ]
    }
   ],
   "source": [
    "\n",
    "alphas = [0.001, 0.01, 0.1, 1.0, 10.0, 100.0]\n",
    "\n",
    "best_rmse_ridge, best_alpha_ridge = float('inf'), None\n",
    "for a in alphas:\n",
    "    ridge = Pipeline([('scaler', StandardScaler()), ('model', Ridge(alpha=a, random_state=RANDOM_STATE))])\n",
    "    ridge.fit(X_train, y_train)\n",
    "    pred = ridge.predict(X_valid)\n",
    "    score = rmse(y_valid, pred)\n",
    "    if score < best_rmse_ridge:\n",
    "        best_rmse_ridge, best_alpha_ridge = score, a\n",
    "\n",
    "best_rmse_lasso, best_alpha_lasso = float('inf'), None\n",
    "for a in alphas:\n",
    "    lasso = Pipeline([('scaler', StandardScaler()), ('model', Lasso(alpha=a, random_state=RANDOM_STATE, max_iter=10000))])\n",
    "    lasso.fit(X_train, y_train)\n",
    "    pred = lasso.predict(X_valid)\n",
    "    score = rmse(y_valid, pred)\n",
    "    if score < best_rmse_lasso:\n",
    "        best_rmse_lasso, best_alpha_lasso = score, a\n",
    "\n",
    "print(f\"EXP 2 — Ridge best alpha={best_alpha_ridge} | RMSE={best_rmse_ridge}\")\n",
    "print(f\"EXP 2 — Lasso best alpha={best_alpha_lasso} | RMSE={best_rmse_lasso}\")\n"
   ]
  },
  {
   "cell_type": "markdown",
   "id": "fb3bfbdd",
   "metadata": {},
   "source": [
    "\n",
    "## 8) Experiment 3 — Polynomial Regression (degree=2,3) \n"
   ]
  },
  {
   "cell_type": "code",
   "execution_count": 8,
   "id": "89c5e354",
   "metadata": {},
   "outputs": [
    {
     "data": {
      "text/html": [
       "<div>\n",
       "<style scoped>\n",
       "    .dataframe tbody tr th:only-of-type {\n",
       "        vertical-align: middle;\n",
       "    }\n",
       "\n",
       "    .dataframe tbody tr th {\n",
       "        vertical-align: top;\n",
       "    }\n",
       "\n",
       "    .dataframe thead th {\n",
       "        text-align: right;\n",
       "    }\n",
       "</style>\n",
       "<table border=\"1\" class=\"dataframe\">\n",
       "  <thead>\n",
       "    <tr style=\"text-align: right;\">\n",
       "      <th></th>\n",
       "      <th>Degree</th>\n",
       "      <th>Valid_RMSE</th>\n",
       "      <th>Valid_R2</th>\n",
       "    </tr>\n",
       "  </thead>\n",
       "  <tbody>\n",
       "    <tr>\n",
       "      <th>2</th>\n",
       "      <td>3</td>\n",
       "      <td>6971.787097</td>\n",
       "      <td>0.904843</td>\n",
       "    </tr>\n",
       "    <tr>\n",
       "      <th>0</th>\n",
       "      <td>1</td>\n",
       "      <td>7059.043622</td>\n",
       "      <td>0.902446</td>\n",
       "    </tr>\n",
       "    <tr>\n",
       "      <th>1</th>\n",
       "      <td>2</td>\n",
       "      <td>7247.614530</td>\n",
       "      <td>0.897165</td>\n",
       "    </tr>\n",
       "  </tbody>\n",
       "</table>\n",
       "</div>"
      ],
      "text/plain": [
       "   Degree   Valid_RMSE  Valid_R2\n",
       "2       3  6971.787097  0.904843\n",
       "0       1  7059.043622  0.902446\n",
       "1       2  7247.614530  0.897165"
      ]
     },
     "metadata": {},
     "output_type": "display_data"
    }
   ],
   "source": [
    "\n",
    "degrees = [1,2,3]\n",
    "results_poly = []\n",
    "\n",
    "for d in degrees:\n",
    "    poly = Pipeline([('poly', PolynomialFeatures(degree=d, include_bias=False)),\n",
    "                     ('scaler', StandardScaler()),\n",
    "                     ('model', LinearRegression())])\n",
    "    poly.fit(X_train, y_train)\n",
    "    pred = poly.predict(X_valid)\n",
    "    results_poly.append((d, rmse(y_valid, pred), r2_score(y_valid, pred)))\n",
    "\n",
    "results_poly_df = pd.DataFrame(results_poly, columns=['Degree','Valid_RMSE','Valid_R2']).sort_values('Valid_RMSE')\n",
    "display(results_poly_df)\n"
   ]
  },
  {
   "cell_type": "markdown",
   "id": "9e5766a1",
   "metadata": {},
   "source": [
    "## 9) Compare All Experiments"
   ]
  },
  {
   "cell_type": "code",
   "execution_count": 9,
   "id": "d2698ca4",
   "metadata": {},
   "outputs": [
    {
     "data": {
      "text/html": [
       "<div>\n",
       "<style scoped>\n",
       "    .dataframe tbody tr th:only-of-type {\n",
       "        vertical-align: middle;\n",
       "    }\n",
       "\n",
       "    .dataframe tbody tr th {\n",
       "        vertical-align: top;\n",
       "    }\n",
       "\n",
       "    .dataframe thead th {\n",
       "        text-align: right;\n",
       "    }\n",
       "</style>\n",
       "<table border=\"1\" class=\"dataframe\">\n",
       "  <thead>\n",
       "    <tr style=\"text-align: right;\">\n",
       "      <th></th>\n",
       "      <th>Experiment</th>\n",
       "      <th>Valid_RMSE</th>\n",
       "      <th>Valid_R2</th>\n",
       "    </tr>\n",
       "  </thead>\n",
       "  <tbody>\n",
       "    <tr>\n",
       "      <th>3</th>\n",
       "      <td>Poly best (by RMSE)</td>\n",
       "      <td>6971.787097</td>\n",
       "      <td>0.904843</td>\n",
       "    </tr>\n",
       "    <tr>\n",
       "      <th>0</th>\n",
       "      <td>Linear (Std)</td>\n",
       "      <td>7059.043622</td>\n",
       "      <td>0.902446</td>\n",
       "    </tr>\n",
       "    <tr>\n",
       "      <th>2</th>\n",
       "      <td>Lasso (best)</td>\n",
       "      <td>7059.043691</td>\n",
       "      <td>NaN</td>\n",
       "    </tr>\n",
       "    <tr>\n",
       "      <th>1</th>\n",
       "      <td>Ridge (best)</td>\n",
       "      <td>7059.121629</td>\n",
       "      <td>NaN</td>\n",
       "    </tr>\n",
       "  </tbody>\n",
       "</table>\n",
       "</div>"
      ],
      "text/plain": [
       "            Experiment   Valid_RMSE  Valid_R2\n",
       "3  Poly best (by RMSE)  6971.787097  0.904843\n",
       "0         Linear (Std)  7059.043622  0.902446\n",
       "2         Lasso (best)  7059.043691       NaN\n",
       "1         Ridge (best)  7059.121629       NaN"
      ]
     },
     "metadata": {},
     "output_type": "display_data"
    }
   ],
   "source": [
    "\n",
    "summary = pd.DataFrame({\n",
    "    'Experiment': ['Linear (Std)', 'Ridge (best)', 'Lasso (best)', 'Poly best (by RMSE)'],\n",
    "    'Valid_RMSE': [rmse_lr, best_rmse_ridge, best_rmse_lasso, results_poly_df.iloc[0]['Valid_RMSE']],\n",
    "    'Valid_R2':   [r2_lr, np.nan, np.nan, results_poly_df.iloc[0]['Valid_R2']]\n",
    "})\n",
    "display(summary.sort_values('Valid_RMSE'))\n"
   ]
  },
  {
   "cell_type": "markdown",
   "id": "38bf2b2a",
   "metadata": {},
   "source": [
    "\n",
    "## 10) Impact \n",
    "Salary models risk encoding inequities if trained with biased factors (e.g., education, location, demographics). \n",
    "Even with a neutral feature like YearsExperience, deploying salary predictors may influence negotiation dynamics and fairness. \n",
    "Mitigations: transparency about uncertainty, avoid sensitive attributes, and use human oversight.\n"
   ]
  },
  {
   "cell_type": "markdown",
   "id": "eab32398",
   "metadata": {},
   "source": [
    "\n",
    "## 11) Conclusion\n",
    "- Linear regression provides a strong baseline with clear interpretability.\n",
    "- On this tiny dataset, **regularization** may modestly help; **polynomial** terms can overfit—use CV to verify.\n",
    "- With more data, we’d expand features (role, industry, location) and audit subgroup errors.\n"
   ]
  },
  {
   "cell_type": "markdown",
   "id": "11b714cb",
   "metadata": {},
   "source": [
    "\n",
    "## 12) References \n",
    "- Kaggle dataset: *Years of experience and Salary dataset* (rohankayan).\n",
    "- scikit-learn documentation for LinearRegression, Ridge, Lasso, PolynomialFeatures.\n",
    "- Course notes on regression and RMSE.\n"
   ]
  }
 ],
 "metadata": {
  "kernelspec": {
   "display_name": "Python 3",
   "language": "python",
   "name": "python3"
  },
  "language_info": {
   "codemirror_mode": {
    "name": "ipython",
    "version": 3
   },
   "file_extension": ".py",
   "mimetype": "text/x-python",
   "name": "python",
   "nbconvert_exporter": "python",
   "pygments_lexer": "ipython3",
   "version": "3.10.4"
  }
 },
 "nbformat": 4,
 "nbformat_minor": 5
}
